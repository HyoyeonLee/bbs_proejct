{
 "cells": [
  {
   "cell_type": "code",
   "execution_count": 1,
   "id": "5b79c792-673b-486f-8418-52232401332b",
   "metadata": {},
   "outputs": [
    {
     "ename": "ModuleNotFoundError",
     "evalue": "No module named 'BBS_pp_utils'",
     "output_type": "error",
     "traceback": [
      "\u001b[0;31m---------------------------------------------------------------------------\u001b[0m",
      "\u001b[0;31mModuleNotFoundError\u001b[0m                       Traceback (most recent call last)",
      "Input \u001b[0;32mIn [1]\u001b[0m, in \u001b[0;36m<cell line: 11>\u001b[0;34m()\u001b[0m\n\u001b[1;32m      8\u001b[0m \u001b[38;5;28;01mimport\u001b[39;00m \u001b[38;5;21;01mnumpy\u001b[39;00m \u001b[38;5;28;01mas\u001b[39;00m \u001b[38;5;21;01mnp\u001b[39;00m\n\u001b[1;32m      9\u001b[0m \u001b[38;5;28;01mimport\u001b[39;00m \u001b[38;5;21;01mPIL\u001b[39;00m\n\u001b[0;32m---> 11\u001b[0m \u001b[38;5;28;01mfrom\u001b[39;00m \u001b[38;5;21;01mBBS_pp_utils\u001b[39;00m \u001b[38;5;28;01mimport\u001b[39;00m json_to_arr\n\u001b[1;32m     12\u001b[0m \u001b[38;5;28;01mimport\u001b[39;00m \u001b[38;5;21;01mBBS_pp_utils\u001b[39;00m \u001b[38;5;28;01mas\u001b[39;00m \u001b[38;5;21;01mbbpp\u001b[39;00m\n\u001b[1;32m     13\u001b[0m \u001b[38;5;28;01mimport\u001b[39;00m \u001b[38;5;21;01mdata_preprocessing\u001b[39;00m \u001b[38;5;28;01mas\u001b[39;00m \u001b[38;5;21;01mdp\u001b[39;00m\n",
      "\u001b[0;31mModuleNotFoundError\u001b[0m: No module named 'BBS_pp_utils'"
     ]
    }
   ],
   "source": [
    "%load_ext autoreload\n",
    "%autoreload 2\n",
    "\n",
    "import os\n",
    "from glob import glob \n",
    "import cv2\n",
    "import matplotlib.pyplot as plt \n",
    "import numpy as np\n",
    "import PIL\n",
    "\n",
    "from BBS_pp_utils import json_to_arr\n",
    "import BBS_pp_utils as bbpp\n",
    "import data_preprocessing as dp\n",
    "from data_utils import Loader"
   ]
  },
  {
   "cell_type": "markdown",
   "id": "66c3170e-6a23-40fc-a317-e2dc288de675",
   "metadata": {},
   "source": [
    "[('frame', '<i8'), ('xl_hand', '<f8'), ('yl_hand', '<f8'), ('xl_elbow', '<f8'), ('yl_elbow', '<f8'), ('xl_shoulder', '<f8'), ('yl_shoulder', '<f8'), ('xr_shoulder', '<f8'), ('yr_shoulder', '<f8'), ('xr_elbow', '<f8'), ('yr_elbow', '<f8'), ('xr_hand', '<f8'), ('yr_hand', '<f8'), ('xhead', '<f8'), ('yhead', '<f8'), ('xneck', '<f8'), ('yneck', '<f8'), ('xpelvis', '<f8'), ('ypelvis', '<f8'), ('xl_foot', '<f8'), ('yl_foot', '<f8'), ('xl_knee', '<f8'), ('yl_knee', '<f8'), ('xl_hip', '<f8'), ('yl_hip', '<f8'), ('xr_hip', '<f8'), ('yr_hip', '<f8'), ('xr_knee', '<f8'), ('yr_knee', '<f8'), ('xr_foot', '<f8'), ('yr_foot', '<f8')]"
   ]
  },
  {
   "cell_type": "code",
   "execution_count": 3,
   "id": "0d7796d0-78f5-4237-b736-674851779d31",
   "metadata": {},
   "outputs": [],
   "source": [
    "def sk_viewer(json_to_arr_list, jpg, name=None, class_name=None, idx=0, save=1):\n",
    "    '''\n",
    "    skeleton viewer function \n",
    "    parameters\n",
    "    ----------\n",
    "    json_to_arr_list : json_to_arr_list function result\n",
    "    jpg_list : Full frame list\n",
    "    idx : Frame index that you want to see\n",
    "    image save = 1 / not image save = 0\n",
    "    '''\n",
    "    left_arms = ['l_shoulder', 'l_elbow', 'pelvis']\n",
    "    right_arms = ['l_hand', 'r_shoulder',  'r_elbow', 'pelvis']\n",
    "    body = ['l_hand','l_shoulder', 'r_shoulder', 'r_hip', 'l_hip', 'l_shoulder']\n",
    "    leg = ['r_foot', 'r_knee', 'r_hip', 'l_hip', 'l_knee', 'l_foot']\n",
    "    ii = [left_arms, right_arms, body, leg]\n",
    "\n",
    "    fig, ax = plt.subplots(figsize=(16,9))\n",
    "    im = plt.imread(jpg)\n",
    "    \n",
    "    # 스켈레톤과 RGB가 이미지 영역도 다르고 해상도도 달라서 맞춰줌 \n",
    "    xsk = ysk = 512\n",
    "    scale = 1280/512\n",
    "        \n",
    "    im = cv2.resize(im, dsize=(0, 0), fx=1, fy=1, )\n",
    "    ax.imshow(im, zorder=1)\n",
    "    for color_idx, i in enumerate(json_to_arr_list):\n",
    "        if color_idx == 0: \n",
    "            color = 'tab:blue'\n",
    "        elif color_idx == 1:\n",
    "            color = 'tab:orange'\n",
    "        else:\n",
    "            color = 'tab:green'\n",
    "            \n",
    "        for j in ii:\n",
    "            ax.plot([(i['x'+sa][idx] - 0.5*xsk)*scale + 640 for sa in j if i['x'+sa][idx] !=0],\n",
    "                    [(i['y'+sa][idx] - 0.5*ysk)*scale + 420 for sa in j if i['x'+sa][idx] !=0], lw=5, color=color)\n",
    "    if save == 1:\n",
    "        zos.makedirs(f'/home/eckim/workspace/fhe_etri/Data/BBS/Sample_BBS/BBS/e_image_plot/{class_name}', exist_ok=True)\n",
    "        plt.tight_layout()\n",
    "        plt.savefig(f'/home/eckim/workspace/fhe_etri/Data/BBS/Sample_BBS/BBS/e_image_plot/{class_name}/{name}_{idx}.jpg')\n",
    "    plt.close()\n",
    "    #plt.show()"
   ]
  },
  {
   "cell_type": "code",
   "execution_count": 4,
   "id": "7152cd7e-750c-4118-8319-b6228899d417",
   "metadata": {},
   "outputs": [
    {
     "ename": "NameError",
     "evalue": "name 'bbpp' is not defined",
     "output_type": "error",
     "traceback": [
      "\u001b[0;31m---------------------------------------------------------------------------\u001b[0m",
      "\u001b[0;31mNameError\u001b[0m                                 Traceback (most recent call last)",
      "Input \u001b[0;32mIn [4]\u001b[0m, in \u001b[0;36m<cell line: 1>\u001b[0;34m()\u001b[0m\n\u001b[0;32m----> 1\u001b[0m dtypes \u001b[38;5;241m=\u001b[39m \u001b[43mbbpp\u001b[49m\u001b[38;5;241m.\u001b[39mget_dtypes(ignored_joints\u001b[38;5;241m=\u001b[39m[])\n\u001b[1;32m      3\u001b[0m ll \u001b[38;5;241m=\u001b[39m Loader(dtypes\u001b[38;5;241m=\u001b[39mdtypes)\n",
      "\u001b[0;31mNameError\u001b[0m: name 'bbpp' is not defined"
     ]
    }
   ],
   "source": [
    "dtypes = bbpp.get_dtypes(ignored_joints=[])\n",
    "\n",
    "ll = Loader(dtypes=dtypes)\n",
    "\n",
    "#ll.skel_fn(\"a\", 29, 1, 1)\n",
    "#fnl = np.array(ll.get_jpg_list())\n",
    "#sk = ll.skel_fn(\"a\", 29, 4, 4)"
   ]
  },
  {
   "cell_type": "code",
   "execution_count": 9,
   "id": "930ba23e-9c75-4a7e-baa8-2a5db427cbb6",
   "metadata": {},
   "outputs": [
    {
     "name": "stdout",
     "output_type": "stream",
     "text": [
      "5863\n",
      "/home/eckim/workspace/fhe_etri/Data/BBS/Sample_BBS/BBS/frame_1_idx_e/1/0/021/0001.jpg\n"
     ]
    }
   ],
   "source": [
    "root = '/home/eckim/workspace/fhe_etri/Data/BBS/Sample_BBS/BBS'\n",
    "id_list = glob(root+'/frame_1_idx_e/*/*/*/*.jpg')\n",
    "id_list.sort()\n",
    "print(len(id_list))\n",
    "print(id_list[1])"
   ]
  },
  {
   "cell_type": "code",
   "execution_count": 11,
   "id": "9691a80e-d22c-427d-8ff5-914916b5a016",
   "metadata": {},
   "outputs": [
    {
     "name": "stdout",
     "output_type": "stream",
     "text": [
      "11677\n",
      "/home/eckim/workspace/fhe_etri/Data/BBS/Sample_BBS/BBS/npy_e/1/0/020/e_020_1_0_0.npy\n"
     ]
    }
   ],
   "source": [
    "npy_file = glob(root+'/npy_e/*/*/*/*0.npy')\n",
    "npy_file.sort()\n",
    "print(len(npy_file))\n",
    "print(npy_file[1])"
   ]
  },
  {
   "cell_type": "code",
   "execution_count": null,
   "id": "05ab9518-d3b4-46e0-a703-15c35d927ee6",
   "metadata": {},
   "outputs": [],
   "source": [
    "for i in id_list:\n",
    "    _, _, class_name, score, ID, _ = i.split(root)[1].split('/')\n",
    "    #print(class_name, score, ID)\n",
    "    arrs = []\n",
    "    for j in range(len(glob(root+f'/npy_e/{class_name}/{score}/{ID}/e*.npy'))):\n",
    "        arr = np.load(root+f'/npy_e/{class_name}/{score}/{ID}/e_{ID}_{class_name}_{score}_{j}.npy')\n",
    "        arrs.append(arr)\n",
    "    # print(len(arrs))\n",
    "    #print(arrs[0].dtype)\n",
    "    #print(arrs[0]['xl_hand'])\n",
    "    name = f'a_{ID}_{class_name}_{score}'\n",
    "    try:\n",
    "        \n",
    "        sk_viewer(arrs, i, name, class_name, 0, 1)\n",
    "    except:\n",
    "        print(name)\n",
    "        pass\n",
    "    #print(name)"
   ]
  },
  {
   "cell_type": "code",
   "execution_count": null,
   "id": "fcb4a143-cb70-464b-a18b-113b6530c320",
   "metadata": {},
   "outputs": [],
   "source": []
  }
 ],
 "metadata": {
  "kernelspec": {
   "display_name": "Python 3 (ipykernel)",
   "language": "python",
   "name": "python3"
  },
  "language_info": {
   "codemirror_mode": {
    "name": "ipython",
    "version": 3
   },
   "file_extension": ".py",
   "mimetype": "text/x-python",
   "name": "python",
   "nbconvert_exporter": "python",
   "pygments_lexer": "ipython3",
   "version": "3.9.12"
  }
 },
 "nbformat": 4,
 "nbformat_minor": 5
}
